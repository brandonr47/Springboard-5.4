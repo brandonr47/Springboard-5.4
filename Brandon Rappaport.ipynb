{
 "cells": [
  {
   "cell_type": "markdown",
   "metadata": {},
   "source": [
    "This exercise will require you to pull some data from the Qunadl API. Qaundl is currently the most widely used aggregator of financial market data."
   ]
  },
  {
   "cell_type": "markdown",
   "metadata": {},
   "source": [
    "# As a first step, you will need to register a free account on the http://www.quandl.com website."
   ]
  },
  {
   "cell_type": "markdown",
   "metadata": {},
   "source": [
    "After you register, you will be provided with a unique API key, that you should store:"
   ]
  },
  {
   "cell_type": "code",
   "execution_count": 2,
   "metadata": {},
   "outputs": [],
   "source": [
    "# Store the API key as a string - according to PEP8, constants are always named in all upper case\n",
    "API_KEY = 'W-YGIHNQ5ZIJGQBECEIY'"
   ]
  },
  {
   "cell_type": "markdown",
   "metadata": {},
   "source": [
    "Qaundl has a large number of data sources, but, unfortunately, most of them require a Premium subscription. Still, there are also a good number of free datasets."
   ]
  },
  {
   "cell_type": "markdown",
   "metadata": {},
   "source": [
    "For this mini project, we will focus on equities data from the Frankfurt Stock Exhange (FSE), which is available for free. We'll try and analyze the stock prices of a company called Carl Zeiss Meditec, which manufactures tools for eye examinations, as well as medical lasers for laser eye surgery: https://www.zeiss.com/meditec/int/home.html. The company is listed under the stock ticker AFX_X."
   ]
  },
  {
   "cell_type": "markdown",
   "metadata": {},
   "source": [
    "You can find the detailed Quandl API instructions here: https://docs.quandl.com/docs/time-series"
   ]
  },
  {
   "cell_type": "markdown",
   "metadata": {},
   "source": [
    "While there is a dedicated Python package for connecting to the Quandl API, we would prefer that you use the *requests* package, which can be easily downloaded using *pip* or *conda*. You can find the documentation for the package here: http://docs.python-requests.org/en/master/ "
   ]
  },
  {
   "cell_type": "markdown",
   "metadata": {},
   "source": [
    "Finally, apart from the *requests* package, you are encouraged to not use any third party Python packages, such as *pandas*, and instead focus on what's available in the Python Standard Library (the *collections* module might come in handy: https://pymotw.com/3/collections/).\n",
    "Also, since you won't have access to DataFrames, you are encouraged to us Python's native data structures - preferably dictionaries, though some questions can also be answered using lists.\n",
    "You can read more on these data structures here: https://docs.python.org/3/tutorial/datastructures.html"
   ]
  },
  {
   "cell_type": "markdown",
   "metadata": {},
   "source": [
    "Keep in mind that the JSON responses you will be getting from the API map almost one-to-one to Python's dictionaries. Unfortunately, they can be very nested, so make sure you read up on indexing dictionaries in the documentation provided above."
   ]
  },
  {
   "cell_type": "code",
   "execution_count": 3,
   "metadata": {},
   "outputs": [
    {
     "data": {
      "text/plain": [
       "<Response [200]>"
      ]
     },
     "execution_count": 3,
     "metadata": {},
     "output_type": "execute_result"
    }
   ],
   "source": [
    "#First, import the relevant modules\n",
    "#pip install requests \n",
    "import requests as re\n",
    "re.get('https://www.quandl.com/data/FSE/AFX_X-Carl-Zeiss-Meditec-AFX_X')"
   ]
  },
  {
   "cell_type": "code",
   "execution_count": 237,
   "metadata": {
    "scrolled": true
   },
   "outputs": [
    {
     "name": "stdout",
     "output_type": "stream",
     "text": [
      "<class 'dict'>\n",
      "Highest Open 53.11\n",
      "Lowest Open 4.2\n",
      "Highest Day Change 7.700000000000003\n",
      "Lowest Day Change 0.0\n",
      "Largest Next Day Change 7.0\n",
      "Smallest Next Day Change  0.0\n",
      "Average # of Daily Training Volume including 0's 49322.746627931105\n",
      "Average # of Daily Training Volume excluding 0's 68616.14203233256\n"
     ]
    }
   ],
   "source": [
    "# Now, call the Quandl API and pull out a small sample of the data (only one day) to get a glimpse\n",
    "# into the JSON structure that will be returned\n",
    "import requests as re\n",
    "te=re.get('https://www.quandl.com/data/FSE/AFX_X-Carl-Zeiss-Meditec-AFX_X')\n",
    "\n",
    "API_KEY = 'W-YGIHNQ5ZIJGQBECEIY'\n",
    "test=re.get(\"https://www.quandl.com/api/v3/datasets/FSE/AFX_X.json?api_key=W-yGihnq5ziJGqbeCeiy\").json()\n",
    "Denest=test['dataset']\n",
    "Dates=(Denest['data'])\n",
    "Datesif={}\n",
    "y2017dates=[]\n",
    "for x in range(0,len(Dates)):\n",
    "   Datesif=(Dates[x][0])\n",
    "   if(Datesif[0:4]=='2017'):\n",
    "       y2017dates.append(Dates[x])\n",
    "#Question 1    \n",
    "#print(y2017dates)\n",
    "\n",
    "#Question 2 Answer\n",
    "print(type(test))\n",
    "\n",
    "#Question 3\n",
    "open=[]\n",
    "#print(type(Dates[0][1])=='NoneType')\n",
    "for x in range(0,len(Dates)):\n",
    "  if(isinstance(Dates[x][1],float)):\n",
    "     open.append(Dates[x][1])\n",
    "sortedopen=sorted(open)\n",
    "print(\"Highest Open\",sortedopen[-1])\n",
    "print(\"Lowest Open\",sortedopen[0])\n",
    "\n",
    "#Question 4\n",
    "Trade=[]\n",
    "for x in range(0,len(Dates)):\n",
    "  if(isinstance(Dates[x][2],float)&(isinstance(Dates[x][3],float))):\n",
    "     Trade.append((Dates[x][2])-(Dates[x][3]))\n",
    "SortedTrade=sorted(Trade)\n",
    "print(\"Highest Day Change\",SortedTrade[-1])\n",
    "print(\"Lowest Day Change\",SortedTrade[0])\n",
    "#print(Denest['column_names'])\n",
    "\n",
    "#Question 5\n",
    "Cldiff=[]\n",
    "Endlist=[]\n",
    "for x in range(0,(len(Dates))):\n",
    "  if((x+1)==len(Dates)):\n",
    "        break\n",
    "  else:\n",
    "        if(isinstance(Dates[x][4],float)&(isinstance(Dates[x+1][4],float))):\n",
    "            Cldiff.append(abs((Dates[x][4])-(Dates[x+1][4])))\n",
    "  \n",
    "sortedCldiff=sorted(Cldiff)\n",
    "print(\"Largest Next Day Change\",sortedCldiff[-1])\n",
    "print(\"Smallest Next Day Change \",sortedCldiff[0])\n",
    "\n",
    "#Question 6\n",
    "TV=0\n",
    "Tvnumber=0\n",
    "for x in range(0,(len(Dates))):\n",
    " if(isinstance(Dates[x][6],float)):\n",
    "    if(Dates[x][6]>0):\n",
    "        Tvnumber=Tvnumber+1\n",
    "    TV=TV+Dates[x][6]\n",
    "AverageTV=TV/len(Dates)\n",
    "AverageTVno0=TV/Tvnumber\n",
    "    \n",
    "print(\"Average # of Daily Training Volume including 0's\",AverageTV)\n",
    "print(\"Average # of Daily Training Volume excluding 0's\",AverageTVno0)\n",
    "\n",
    "\n",
    "\n",
    "\n",
    "\n"
   ]
  },
  {
   "cell_type": "code",
   "execution_count": null,
   "metadata": {},
   "outputs": [],
   "source": [
    "# Inspect the JSON structure of the object you created, and take note of how nested it is,\n",
    "# as well as the overall structure\n"
   ]
  },
  {
   "cell_type": "markdown",
   "metadata": {},
   "source": [
    "These are your tasks for this mini project:\n",
    "\n",
    "1. Collect data from the Franfurt Stock Exchange, for the ticker AFX_X, for the whole year 2017 (keep in mind that the date format is YYYY-MM-DD).\n",
    "2. Convert the returned JSON object into a Python dictionary.\n",
    "3. Calculate what the highest and lowest opening prices were for the stock in this period.\n",
    "4. What was the largest change in any one day (based on High and Low price)?\n",
    "5. What was the largest change between any two days (based on Closing Price)?\n",
    "6. What was the average daily trading volume during this year?\n",
    "7. (Optional) What was the median trading volume during this year. (Note: you may need to implement your own function for calculating the median.)"
   ]
  },
  {
   "cell_type": "code",
   "execution_count": null,
   "metadata": {},
   "outputs": [],
   "source": []
  },
  {
   "cell_type": "code",
   "execution_count": null,
   "metadata": {},
   "outputs": [],
   "source": []
  },
  {
   "cell_type": "code",
   "execution_count": null,
   "metadata": {},
   "outputs": [],
   "source": []
  },
  {
   "cell_type": "code",
   "execution_count": null,
   "metadata": {},
   "outputs": [],
   "source": []
  },
  {
   "cell_type": "code",
   "execution_count": null,
   "metadata": {},
   "outputs": [],
   "source": []
  },
  {
   "cell_type": "code",
   "execution_count": null,
   "metadata": {},
   "outputs": [],
   "source": []
  }
 ],
 "metadata": {
  "kernelspec": {
   "display_name": "Python 3",
   "language": "python",
   "name": "python3"
  },
  "language_info": {
   "codemirror_mode": {
    "name": "ipython",
    "version": 3
   },
   "file_extension": ".py",
   "mimetype": "text/x-python",
   "name": "python",
   "nbconvert_exporter": "python",
   "pygments_lexer": "ipython3",
   "version": "3.7.1"
  }
 },
 "nbformat": 4,
 "nbformat_minor": 2
}
